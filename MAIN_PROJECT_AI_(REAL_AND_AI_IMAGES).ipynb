{
  "nbformat": 4,
  "nbformat_minor": 0,
  "metadata": {
    "colab": {
      "provenance": []
    },
    "kernelspec": {
      "name": "python3",
      "display_name": "Python 3"
    },
    "language_info": {
      "name": "python"
    },
    "accelerator": "GPU",
    "gpuClass": "standard"
  },
  "cells": [
    {
      "cell_type": "markdown",
      "source": [
        "ABOUT\n",
        "\n",
        "THIS PROJECT'S DATASET CONTAINS BOTH REAL IMAGES AND ARTIFICIAL INTELLIGENCE-GENERATED IMAGES. THROUGH A SERIES OF TRAINING AND TESTING, WE NEED TO SEPARATE THE REAL AND AI-GENERATED IMAGES."
      ],
      "metadata": {
        "id": "pxz-iOd-I0zl"
      }
    },
    {
      "cell_type": "markdown",
      "source": [
        "AIM\n",
        "\n",
        "TO IDENTIFYING WHETHER AN IMAGE IS AN ARTIFICIAL INTELLIGENCE GENERATED IMAGE OR A REAL IMAGE WITH THE HELP OF ARTIFICIAL INTELLIGENCE."
      ],
      "metadata": {
        "id": "GhXX0SXfIHwv"
      }
    },
    {
      "cell_type": "markdown",
      "source": [
        "IMPORTING THE DEPENDENCIES"
      ],
      "metadata": {
        "id": "epdiXR11J6kE"
      }
    },
    {
      "cell_type": "code",
      "source": [
        "import os\n",
        "import numpy as np\n",
        "import matplotlib.pyplot as plt\n",
        "import matplotlib.image as mpimg\n",
        "import cv2\n",
        "from google.colab.patches import cv2_imshow\n",
        "from PIL import Image\n",
        "from sklearn.model_selection import train_test_split"
      ],
      "metadata": {
        "id": "pERXlA0EQv10"
      },
      "execution_count": null,
      "outputs": []
    },
    {
      "cell_type": "markdown",
      "source": [
        "NOUNTING DRIVE"
      ],
      "metadata": {
        "id": "WovyPpEQKECW"
      }
    },
    {
      "cell_type": "code",
      "source": [
        "from google.colab import drive\n",
        "drive.mount('/content/drive')"
      ],
      "metadata": {
        "colab": {
          "base_uri": "https://localhost:8080/"
        },
        "id": "Rk1ZgFIQQ0Jc",
        "outputId": "0d53d1b9-c930-4fcd-b145-2c6d9358513f"
      },
      "execution_count": null,
      "outputs": [
        {
          "output_type": "stream",
          "name": "stdout",
          "text": [
            "Drive already mounted at /content/drive; to attempt to forcibly remount, call drive.mount(\"/content/drive\", force_remount=True).\n"
          ]
        }
      ]
    },
    {
      "cell_type": "markdown",
      "source": [
        "UNZIPPING THE DATA SET"
      ],
      "metadata": {
        "id": "18hTpp6YKICz"
      }
    },
    {
      "cell_type": "code",
      "source": [
        "from zipfile import ZipFile\n",
        "dataset='/content/drive/MyDrive/archive (35).zip'\n",
        "with ZipFile(dataset,'r') as zip:\n",
        "  zip.extractall()\n",
        "  print('The dataset is extracted')"
      ],
      "metadata": {
        "colab": {
          "base_uri": "https://localhost:8080/"
        },
        "id": "GrxenPEuQ8Fk",
        "outputId": "5b14f677-d531-4422-8e4d-6395334f403a"
      },
      "execution_count": null,
      "outputs": [
        {
          "output_type": "stream",
          "name": "stdout",
          "text": [
            "The dataset is extracted\n"
          ]
        }
      ]
    },
    {
      "cell_type": "markdown",
      "source": [
        "READING THE IMAGES"
      ],
      "metadata": {
        "id": "g5zP1-XdKLcj"
      }
    },
    {
      "cell_type": "code",
      "source": [
        "real_image_files=os.listdir('/content/train/REAL')\n",
        "print(real_image_files[0:5])\n",
        "print(real_image_files[-5:])"
      ],
      "metadata": {
        "colab": {
          "base_uri": "https://localhost:8080/"
        },
        "id": "bDrH6r0vUj3J",
        "outputId": "9172f567-8989-4a40-fddb-bdcd1b21f505"
      },
      "execution_count": null,
      "outputs": [
        {
          "output_type": "stream",
          "name": "stdout",
          "text": [
            "['0137 (10).jpg', '0268 (2).jpg', '0526 (6).jpg', '2883 (3).jpg', '3575 (4).jpg']\n",
            "['0306 (10).jpg', '1689 (10).jpg', '0752 (6).jpg', '4084 (9).jpg', '4986 (4).jpg']\n"
          ]
        }
      ]
    },
    {
      "cell_type": "code",
      "source": [
        "fake_image_files=os.listdir('/content/train/FAKE')\n",
        "print(fake_image_files[0:5])\n",
        "print(fake_image_files[-5:])"
      ],
      "metadata": {
        "colab": {
          "base_uri": "https://localhost:8080/"
        },
        "id": "ih-YcIflU_3f",
        "outputId": "03074000-6e0e-4861-fc57-71f04dd72471"
      },
      "execution_count": null,
      "outputs": [
        {
          "output_type": "stream",
          "name": "stdout",
          "text": [
            "['5749 (2).jpg', '5397 (4).jpg', '5252 (10).jpg', '2883 (3).jpg', '3575 (4).jpg']\n",
            "['3042 (4).jpg', '1312 (9).jpg', '1689 (10).jpg', '4084 (9).jpg', '4986 (4).jpg']\n"
          ]
        }
      ]
    },
    {
      "cell_type": "code",
      "source": [
        "print('Number of real images:',len(real_image_files))\n",
        "print('Number of fake images:',len(fake_image_files))"
      ],
      "metadata": {
        "colab": {
          "base_uri": "https://localhost:8080/"
        },
        "id": "-ox2_amuVLjh",
        "outputId": "f530e56a-0e6b-481b-9c82-a0d43a9a40e3"
      },
      "execution_count": null,
      "outputs": [
        {
          "output_type": "stream",
          "name": "stdout",
          "text": [
            "Number of real images: 50000\n",
            "Number of fake images: 50000\n"
          ]
        }
      ]
    },
    {
      "cell_type": "markdown",
      "source": [
        "EXPLORING THE IMAGE DATASET AND LABELLING THE IMAGES AS\n",
        "\n",
        "REAL IMAGES -> 1\n",
        "\n",
        "ARTIFICIAL INTELLIGENCE GENERATED -> 0\n"
      ],
      "metadata": {
        "id": "Va-j8lUyVfuZ"
      }
    },
    {
      "cell_type": "code",
      "source": [
        "real_image_files=[1]*50000\n",
        "fake_image_files=[0]*50000"
      ],
      "metadata": {
        "id": "djiBIVkMVaTg"
      },
      "execution_count": null,
      "outputs": []
    },
    {
      "cell_type": "code",
      "source": [
        "print(real_image_files[0:5])\n",
        "print(fake_image_files[0:5])"
      ],
      "metadata": {
        "colab": {
          "base_uri": "https://localhost:8080/"
        },
        "id": "XoeXeA5ZWtVU",
        "outputId": "6a0151cb-b6af-46b5-b7e5-11bbde40861d"
      },
      "execution_count": null,
      "outputs": [
        {
          "output_type": "stream",
          "name": "stdout",
          "text": [
            "[1, 1, 1, 1, 1]\n",
            "[0, 0, 0, 0, 0]\n"
          ]
        }
      ]
    },
    {
      "cell_type": "code",
      "source": [
        "print(len(real_image_files))\n",
        "print(len(fake_image_files))"
      ],
      "metadata": {
        "colab": {
          "base_uri": "https://localhost:8080/"
        },
        "id": "tmpc_440WyKj",
        "outputId": "22847541-039c-4d44-a609-b2703dcabe07"
      },
      "execution_count": null,
      "outputs": [
        {
          "output_type": "stream",
          "name": "stdout",
          "text": [
            "50000\n",
            "50000\n"
          ]
        }
      ]
    },
    {
      "cell_type": "code",
      "source": [
        "labels=real_image_files + fake_image_files\n",
        "print(len(labels))\n",
        "print(labels[0:5])\n",
        "print(labels[-5:])"
      ],
      "metadata": {
        "id": "4Of-CLCcW1Rq",
        "colab": {
          "base_uri": "https://localhost:8080/"
        },
        "outputId": "ad3eb101-0aa6-4d21-ad9f-b1d8e7bcb791"
      },
      "execution_count": null,
      "outputs": [
        {
          "output_type": "stream",
          "name": "stdout",
          "text": [
            "100000\n",
            "[1, 1, 1, 1, 1]\n",
            "[0, 0, 0, 0, 0]\n"
          ]
        }
      ]
    },
    {
      "cell_type": "markdown",
      "source": [
        "DISPLAYING THE IMAGES"
      ],
      "metadata": {
        "id": "wexNa5URKiI_"
      }
    },
    {
      "cell_type": "code",
      "source": [
        "img=mpimg.imread('/content/train/REAL/0000.jpg')\n",
        "implot=plt.imshow(img)\n",
        "plt.show()"
      ],
      "metadata": {
        "colab": {
          "base_uri": "https://localhost:8080/",
          "height": 430
        },
        "id": "e7uiXUQHXBx3",
        "outputId": "e93d083e-d4a4-4538-96bb-499154e43bea"
      },
      "execution_count": null,
      "outputs": [
        {
          "output_type": "display_data",
          "data": {
            "text/plain": [
              "<Figure size 640x480 with 1 Axes>"
            ],
            "image/png": "[encoded data removed]"
          },
          "metadata": {}
        }
      ]
    },
    {
      "cell_type": "code",
      "source": [
        "img=mpimg.imread('/content/train/FAKE/1000.jpg')\n",
        "implot=plt.imshow(img)\n",
        "plt.show()"
      ],
      "metadata": {
        "colab": {
          "base_uri": "https://localhost:8080/",
          "height": 430
        },
        "id": "NU9pRQevX3Yt",
        "outputId": "ae4a4672-b49d-4007-8657-ba975b1486e6"
      },
      "execution_count": null,
      "outputs": [
        {
          "output_type": "display_data",
          "data": {
            "text/plain": [
              "<Figure size 640x480 with 1 Axes>"
            ],
            "image/png": "[encoded data removed]"
          },
          "metadata": {}
        }
      ]
    },
    {
      "cell_type": "markdown",
      "source": [
        "IMAGE PROCESSING AND CONVERTING THE IMAGES TO ARRAYS"
      ],
      "metadata": {
        "id": "pDX7N6qIKt0b"
      }
    },
    {
      "cell_type": "code",
      "source": [
        "from PIL import Image\n",
        "\n",
        "# Define the path to the folder containing the images\n",
        "real_image_files = \"/content/train/REAL\"\n",
        "\n",
        "# Create an empty list to store the images as NumPy\n",
        "data = []\n",
        "\n",
        "# Loop through each file in the folder\n",
        "for filename in os.listdir(real_image_files):\n",
        "    # Load the image using Pillow\n",
        "    img = Image.open(os.path.join(real_image_files, filename))\n",
        "    # Convert the image to a NumPy array and append it to the list\n",
        "    data.append(np.array(img))\n",
        "\n",
        "# Convert the list of images to a NumPy array\n",
        "images_array = np.array(data)\n",
        "\n",
        "\n",
        "fake_image_files = \"/content/train/FAKE\"\n",
        "for filename in os.listdir(fake_image_files):\n",
        "    # Load the image using Pillow\n",
        "    img = Image.open(os.path.join(fake_image_files, filename))\n",
        "    # Convert the image to a NumPy array and append it to the list\n",
        "    data.append(np.array(img))\n",
        "\n",
        "# Convert the list of images to a NumPy array\n",
        "images_array = np.array(data)"
      ],
      "metadata": {
        "id": "OD-tYms30b_M"
      },
      "execution_count": null,
      "outputs": []
    },
    {
      "cell_type": "code",
      "source": [
        "type(data)"
      ],
      "metadata": {
        "id": "lDcv99Mon33x",
        "colab": {
          "base_uri": "https://localhost:8080/"
        },
        "outputId": "c82268d8-2a2d-4c55-bab3-7bf10d332f89"
      },
      "execution_count": null,
      "outputs": [
        {
          "output_type": "execute_result",
          "data": {
            "text/plain": [
              "list"
            ]
          },
          "metadata": {},
          "execution_count": 14
        }
      ]
    },
    {
      "cell_type": "code",
      "source": [
        "len(data)"
      ],
      "metadata": {
        "id": "QHYFUaT9t8c6",
        "colab": {
          "base_uri": "https://localhost:8080/"
        },
        "outputId": "9855c281-a4d6-4cd3-e0aa-c4abcd826b70"
      },
      "execution_count": null,
      "outputs": [
        {
          "output_type": "execute_result",
          "data": {
            "text/plain": [
              "100000"
            ]
          },
          "metadata": {},
          "execution_count": 15
        }
      ]
    },
    {
      "cell_type": "code",
      "source": [
        "data[0]"
      ],
      "metadata": {
        "id": "ZRwS_z1zunIC",
        "colab": {
          "base_uri": "https://localhost:8080/"
        },
        "outputId": "caaad11f-38d7-4c5c-f575-ebd4f417b089"
      },
      "execution_count": null,
      "outputs": [
        {
          "output_type": "execute_result",
          "data": {
            "text/plain": [
              "array([[[163, 189, 206],\n",
              "        [166, 189, 207],\n",
              "        [168, 191, 207],\n",
              "        ...,\n",
              "        [155, 178, 212],\n",
              "        [149, 167, 205],\n",
              "        [143, 158, 197]],\n",
              "\n",
              "       [[165, 191, 208],\n",
              "        [167, 193, 210],\n",
              "        [172, 195, 213],\n",
              "        ...,\n",
              "        [148, 172, 206],\n",
              "        [147, 169, 206],\n",
              "        [146, 166, 203]],\n",
              "\n",
              "       [[163, 190, 209],\n",
              "        [168, 193, 213],\n",
              "        [171, 197, 214],\n",
              "        ...,\n",
              "        [139, 170, 201],\n",
              "        [139, 168, 202],\n",
              "        [139, 168, 202]],\n",
              "\n",
              "       ...,\n",
              "\n",
              "       [[214, 207, 178],\n",
              "        [216, 209, 180],\n",
              "        [217, 210, 181],\n",
              "        ...,\n",
              "        [222, 213, 180],\n",
              "        [218, 210, 174],\n",
              "        [214, 206, 169]],\n",
              "\n",
              "       [[212, 208, 181],\n",
              "        [213, 209, 182],\n",
              "        [215, 211, 184],\n",
              "        ...,\n",
              "        [218, 211, 182],\n",
              "        [214, 208, 176],\n",
              "        [214, 208, 176]],\n",
              "\n",
              "       [[210, 208, 183],\n",
              "        [211, 209, 184],\n",
              "        [213, 211, 186],\n",
              "        ...,\n",
              "        [211, 204, 176],\n",
              "        [210, 203, 174],\n",
              "        [216, 209, 180]]], dtype=uint8)"
            ]
          },
          "metadata": {},
          "execution_count": 16
        }
      ]
    },
    {
      "cell_type": "code",
      "source": [
        "len(data[0])"
      ],
      "metadata": {
        "id": "nnf9sTK8tz1S",
        "colab": {
          "base_uri": "https://localhost:8080/"
        },
        "outputId": "8fd203a3-3e31-410a-c3d2-539ec120b16b"
      },
      "execution_count": null,
      "outputs": [
        {
          "output_type": "execute_result",
          "data": {
            "text/plain": [
              "32"
            ]
          },
          "metadata": {},
          "execution_count": 17
        }
      ]
    },
    {
      "cell_type": "markdown",
      "source": [
        "CONVERTING IMAGE LIST AND LABEL LIST TO NUMPY ARRAYS"
      ],
      "metadata": {
        "id": "DxjLeJegK_j6"
      }
    },
    {
      "cell_type": "code",
      "source": [
        "X=np.array(data)\n",
        "Y=np.array(labels)"
      ],
      "metadata": {
        "id": "Lj0skFyloLWg"
      },
      "execution_count": null,
      "outputs": []
    },
    {
      "cell_type": "code",
      "source": [
        "type(X)"
      ],
      "metadata": {
        "id": "JSM0K53uoRKY",
        "colab": {
          "base_uri": "https://localhost:8080/"
        },
        "outputId": "eeff8570-87be-4391-8b77-98885c38fc38"
      },
      "execution_count": null,
      "outputs": [
        {
          "output_type": "execute_result",
          "data": {
            "text/plain": [
              "numpy.ndarray"
            ]
          },
          "metadata": {},
          "execution_count": 19
        }
      ]
    },
    {
      "cell_type": "code",
      "source": [
        "type(Y)"
      ],
      "metadata": {
        "id": "8WHHKMMMoUix",
        "colab": {
          "base_uri": "https://localhost:8080/"
        },
        "outputId": "b4600ff8-702b-4007-d6d6-44b5c1a2cd09"
      },
      "execution_count": null,
      "outputs": [
        {
          "output_type": "execute_result",
          "data": {
            "text/plain": [
              "numpy.ndarray"
            ]
          },
          "metadata": {},
          "execution_count": 20
        }
      ]
    },
    {
      "cell_type": "code",
      "source": [
        "print(X.shape)\n",
        "print(Y.shape)"
      ],
      "metadata": {
        "id": "a-MjvYJuEu81",
        "colab": {
          "base_uri": "https://localhost:8080/"
        },
        "outputId": "6067dcc5-12d7-4add-d6fe-aea5ba28bb33"
      },
      "execution_count": null,
      "outputs": [
        {
          "output_type": "stream",
          "name": "stdout",
          "text": [
            "(100000, 32, 32, 3)\n",
            "(100000,)\n"
          ]
        }
      ]
    },
    {
      "cell_type": "code",
      "source": [
        "print(Y)"
      ],
      "metadata": {
        "id": "3c63DYXYvnxx",
        "colab": {
          "base_uri": "https://localhost:8080/"
        },
        "outputId": "c93e95eb-4c35-4a97-e5aa-fe6f826ca504"
      },
      "execution_count": null,
      "outputs": [
        {
          "output_type": "stream",
          "name": "stdout",
          "text": [
            "[1 1 1 ... 0 0 0]\n"
          ]
        }
      ]
    },
    {
      "cell_type": "markdown",
      "source": [
        "TRAINING THE DATA"
      ],
      "metadata": {
        "id": "u-jmr9-GLCha"
      }
    },
    {
      "cell_type": "code",
      "source": [
        "X_train,X_test,Y_train,Y_test=train_test_split(X,Y,test_size=0.2,random_state=2)"
      ],
      "metadata": {
        "id": "pGUjN8GuvsK-"
      },
      "execution_count": null,
      "outputs": []
    },
    {
      "cell_type": "code",
      "source": [
        "print(X.shape,X_train.shape,X_test.shape)"
      ],
      "metadata": {
        "id": "WxCVjUdivnux",
        "colab": {
          "base_uri": "https://localhost:8080/"
        },
        "outputId": "6944735a-08b0-4627-f34e-e3b49500fafe"
      },
      "execution_count": null,
      "outputs": [
        {
          "output_type": "stream",
          "name": "stdout",
          "text": [
            "(100000, 32, 32, 3) (80000, 32, 32, 3) (20000, 32, 32, 3)\n"
          ]
        }
      ]
    },
    {
      "cell_type": "code",
      "source": [
        "X_train_scaled=X_train/255\n",
        "X_test_scaled=X_test/255"
      ],
      "metadata": {
        "id": "zzvoG9VSvzor"
      },
      "execution_count": null,
      "outputs": []
    },
    {
      "cell_type": "code",
      "source": [
        "X_train[0]"
      ],
      "metadata": {
        "id": "e8VXDga0vzlx",
        "colab": {
          "base_uri": "https://localhost:8080/"
        },
        "outputId": "5fc3ae1d-152f-45a8-94eb-86086a1b6a7d"
      },
      "execution_count": null,
      "outputs": [
        {
          "output_type": "execute_result",
          "data": {
            "text/plain": [
              "array([[[158, 169, 161],\n",
              "        [168, 181, 164],\n",
              "        [170, 183, 157],\n",
              "        ...,\n",
              "        [220, 225, 202],\n",
              "        [217, 225, 202],\n",
              "        [202, 211, 190]],\n",
              "\n",
              "       [[107, 118, 110],\n",
              "        [ 84,  97,  80],\n",
              "        [140, 153, 127],\n",
              "        ...,\n",
              "        [223, 228, 205],\n",
              "        [225, 233, 210],\n",
              "        [227, 235, 212]],\n",
              "\n",
              "       [[ 95, 106,  98],\n",
              "        [101, 114,  97],\n",
              "        [137, 150, 124],\n",
              "        ...,\n",
              "        [240, 244, 221],\n",
              "        [243, 248, 225],\n",
              "        [253, 255, 236]],\n",
              "\n",
              "       ...,\n",
              "\n",
              "       [[202, 217, 176],\n",
              "        [201, 216, 175],\n",
              "        [200, 216, 177],\n",
              "        ...,\n",
              "        [224, 243, 213],\n",
              "        [227, 246, 216],\n",
              "        [220, 239, 209]],\n",
              "\n",
              "       [[200, 216, 177],\n",
              "        [198, 214, 175],\n",
              "        [196, 214, 176],\n",
              "        ...,\n",
              "        [217, 236, 204],\n",
              "        [223, 242, 210],\n",
              "        [229, 250, 219]],\n",
              "\n",
              "       [[197, 213, 176],\n",
              "        [194, 212, 174],\n",
              "        [192, 210, 172],\n",
              "        ...,\n",
              "        [219, 240, 207],\n",
              "        [215, 236, 203],\n",
              "        [224, 245, 212]]], dtype=uint8)"
            ]
          },
          "metadata": {},
          "execution_count": 26
        }
      ]
    },
    {
      "cell_type": "markdown",
      "source": [
        "BUILDING A CONVOLUTIONAL NEURAL NETWORK (CNN)"
      ],
      "metadata": {
        "id": "nQvNv51DLKJD"
      }
    },
    {
      "cell_type": "code",
      "source": [
        "import tensorflow as tf\n",
        "from tensorflow import keras"
      ],
      "metadata": {
        "id": "jyjBDWfXwmzJ"
      },
      "execution_count": null,
      "outputs": []
    },
    {
      "cell_type": "code",
      "source": [
        "num_of_classes=2\n",
        "\n",
        "model=keras.Sequential()\n",
        "\n",
        "model.add(keras.layers.Conv2D(32,kernel_size=(3,3),activation=\"relu\",input_shape=(32,32,3)))\n",
        "model.add(keras.layers.MaxPooling2D(pool_size=(2,2)))\n",
        "\n",
        "model.add(keras.layers.Conv2D(64,kernel_size=(3,3),activation=\"relu\"))\n",
        "model.add(keras.layers.MaxPooling2D(pool_size=(2,2)))\n",
        "\n",
        "model.add(keras.layers.Flatten())\n",
        "\n",
        "model.add(keras.layers.Dense(128,activation=\"relu\"))\n",
        "model.add(keras.layers.Dropout(0.5))\n",
        "\n",
        "model.add(keras.layers.Dense(64,activation='relu'))\n",
        "model.add(keras.layers.Dropout(0.5))\n",
        "\n",
        "model.add(keras.layers.Dense(num_of_classes,activation='sigmoid'))"
      ],
      "metadata": {
        "id": "vV9KwthDwm1E"
      },
      "execution_count": null,
      "outputs": []
    },
    {
      "cell_type": "markdown",
      "source": [
        "COMPILE THE NEURAL NETWORK"
      ],
      "metadata": {
        "id": "EQYu85OlLRjk"
      }
    },
    {
      "cell_type": "code",
      "source": [
        "model.compile(optimizer='adam',\n",
        "              loss='sparse_categorical_crossentropy',\n",
        "              metrics=['acc'])"
      ],
      "metadata": {
        "id": "Wvxf6aEI1NCL"
      },
      "execution_count": null,
      "outputs": []
    },
    {
      "cell_type": "markdown",
      "source": [
        "TRAINING THE NEURAL NETWORK"
      ],
      "metadata": {
        "id": "rSSVN_vZLYwa"
      }
    },
    {
      "cell_type": "code",
      "source": [
        "history=model.fit(X_train_scaled,Y_train,validation_split=0.1,epochs=8)"
      ],
      "metadata": {
        "id": "rbIqA31lxJzc",
        "colab": {
          "base_uri": "https://localhost:8080/"
        },
        "outputId": "4d99407e-df78-4ff7-f79f-738e96d2f8f7"
      },
      "execution_count": null,
      "outputs": [
        {
          "output_type": "stream",
          "name": "stdout",
          "text": [
            "Epoch 1/8\n",
            "2250/2250 [==============================] - 21s 5ms/step - loss: 0.3890 - acc: 0.8285 - val_loss: 0.2578 - val_acc: 0.8928\n",
            "Epoch 2/8\n",
            "2250/2250 [==============================] - 9s 4ms/step - loss: 0.2712 - acc: 0.8917 - val_loss: 0.2137 - val_acc: 0.9126\n",
            "Epoch 3/8\n",
            "2250/2250 [==============================] - 10s 4ms/step - loss: 0.2274 - acc: 0.9124 - val_loss: 0.2005 - val_acc: 0.9168\n",
            "Epoch 4/8\n",
            "2250/2250 [==============================] - 10s 5ms/step - loss: 0.2072 - acc: 0.9189 - val_loss: 0.1836 - val_acc: 0.9290\n",
            "Epoch 5/8\n",
            "2250/2250 [==============================] - 9s 4ms/step - loss: 0.1915 - acc: 0.9263 - val_loss: 0.1767 - val_acc: 0.9295\n",
            "Epoch 6/8\n",
            "2250/2250 [==============================] - 10s 4ms/step - loss: 0.1823 - acc: 0.9296 - val_loss: 0.1789 - val_acc: 0.9295\n",
            "Epoch 7/8\n",
            "2250/2250 [==============================] - 10s 4ms/step - loss: 0.1667 - acc: 0.9359 - val_loss: 0.1704 - val_acc: 0.9348\n",
            "Epoch 8/8\n",
            "2250/2250 [==============================] - 9s 4ms/step - loss: 0.1577 - acc: 0.9404 - val_loss: 0.2037 - val_acc: 0.9201\n"
          ]
        }
      ]
    },
    {
      "cell_type": "markdown",
      "source": [
        "MODEL EVALUATION"
      ],
      "metadata": {
        "id": "5nx-P7L9LfYc"
      }
    },
    {
      "cell_type": "code",
      "source": [
        "loss,accuracy=model.evaluate(X_test_scaled,Y_test)\n",
        "print('Test Accuracy = ',accuracy)"
      ],
      "metadata": {
        "id": "N8L0lONyxJpF",
        "colab": {
          "base_uri": "https://localhost:8080/"
        },
        "outputId": "728921ad-5b93-4682-f73d-f5a2255d52f9"
      },
      "execution_count": null,
      "outputs": [
        {
          "output_type": "stream",
          "name": "stdout",
          "text": [
            "625/625 [==============================] - 1s 2ms/step - loss: 0.2097 - acc: 0.9161\n",
            "Test Accuracy =  0.916100025177002\n"
          ]
        }
      ]
    },
    {
      "cell_type": "markdown",
      "source": [
        "PLOT THE LOSS VALUE"
      ],
      "metadata": {
        "id": "w9EJsUcwLoCy"
      }
    },
    {
      "cell_type": "code",
      "source": [
        "h=history\n",
        "\n",
        "plt.plot(h.history['loss'],label='train loss')\n",
        "plt.plot(h.history['val_loss'],label='validation loss')\n",
        "plt.legend()\n",
        "plt.show()"
      ],
      "metadata": {
        "id": "Qo8G5VjIxJei",
        "colab": {
          "base_uri": "https://localhost:8080/",
          "height": 434
        },
        "outputId": "21a50aed-e4da-4f6d-e319-0bc716640af4"
      },
      "execution_count": null,
      "outputs": [
        {
          "output_type": "display_data",
          "data": {
            "text/plain": [
              "<Figure size 640x480 with 1 Axes>"
            ],
            "image/png": "[encoded data removed]"
          },
          "metadata": {}
        }
      ]
    },
    {
      "cell_type": "markdown",
      "source": [
        "PLOT THE ACCURACY VALUE"
      ],
      "metadata": {
        "id": "70sbXbM4LtlE"
      }
    },
    {
      "cell_type": "code",
      "source": [
        "plt.plot(h.history['acc'],label='train accuracy')\n",
        "plt.plot(h.history['val_acc'],label='validation accuracy')\n",
        "plt.legend()\n",
        "plt.show()"
      ],
      "metadata": {
        "id": "HQZTiyJ55NXv",
        "colab": {
          "base_uri": "https://localhost:8080/",
          "height": 430
        },
        "outputId": "772f6d09-8172-4292-8c55-491504ba209e"
      },
      "execution_count": null,
      "outputs": [
        {
          "output_type": "display_data",
          "data": {
            "text/plain": [
              "<Figure size 640x480 with 1 Axes>"
            ],
            "image/png": "[encoded data removed]"
          },
          "metadata": {}
        }
      ]
    },
    {
      "cell_type": "markdown",
      "source": [
        "PREDICTIVE SYSTEM\n"
      ],
      "metadata": {
        "id": "Hb9Rp9MQLzjS"
      }
    },
    {
      "cell_type": "code",
      "source": [
        "input_image_path=input('Path of the image to be predicted: ')\n",
        "\n",
        "input_image=cv2.imread(input_image_path)\n",
        "\n",
        "cv2_imshow(input_image)\n",
        "\n",
        "input_image_resized=cv2.resize(input_image,(32,32))\n",
        "\n",
        "input_image_scaled=input_image_resized/255\n",
        "\n",
        "input_image_reshaped=np.reshape(input_image_scaled,[1,32,32,3])\n",
        "\n",
        "input_prediction=model.predict(input_image_reshaped)\n",
        "\n",
        "print(input_prediction)\n",
        "\n",
        "input_pred_label=np.argmax(input_prediction)\n",
        "\n",
        "print(input_pred_label)\n",
        "\n",
        "if input_pred_label==1:\n",
        "  print('THE IMAGE IS REAL')\n",
        "else:\n",
        "  print('THE IMAGE IS ARTIFICIAL INTELLIGENCE GENERATED')"
      ],
      "metadata": {
        "colab": {
          "base_uri": "https://localhost:8080/",
          "height": 139
        },
        "id": "aY2lhzwexJU3",
        "outputId": "63d4ac20-7fa9-4a48-ef32-ed00906173cc"
      },
      "execution_count": null,
      "outputs": [
        {
          "name": "stdout",
          "output_type": "stream",
          "text": [
            "Path of the image to be predicted: /content/test/FAKE/1.jpg\n"
          ]
        },
        {
          "output_type": "display_data",
          "data": {
            "text/plain": [
              "<PIL.Image.Image image mode=RGB size=32x32 at 0x7FEC04315000>"
            ],
            "image/png": "[encoded data removed]"
          },
          "metadata": {}
        },
        {
          "output_type": "stream",
          "name": "stdout",
          "text": [
            "1/1 [==============================] - 0s 172ms/step\n",
            "[[0.97187537 0.350615  ]]\n",
            "0\n",
            "THE IMAGE IS ARTIFICIAL INTELLIGENCE GENERATED\n"
          ]
        }
      ]
    },
    {
      "cell_type": "markdown",
      "source": [
        "AFTER TRAINING, A FAKE IMAGE FROM TEST FOLDER IS ADDED TO TEST THE IMAGE.\n",
        "\n",
        "AND THE TEST RESULT SHOWS THAT THE IMAGE IS ARTIFICIAL INTELLIGENCE GENERATED."
      ],
      "metadata": {
        "id": "3ZiKlVpZL-zr"
      }
    },
    {
      "cell_type": "code",
      "source": [
        "input_image_path=input('Path of the image to be predicted: ')\n",
        "\n",
        "input_image=cv2.imread(input_image_path)\n",
        "\n",
        "cv2_imshow(input_image)\n",
        "\n",
        "input_image_resized=cv2.resize(input_image,(32,32))\n",
        "\n",
        "input_image_scaled=input_image_resized/255\n",
        "\n",
        "input_image_reshaped=np.reshape(input_image_scaled,[1,32,32,3])\n",
        "\n",
        "input_prediction=model.predict(input_image_reshaped)\n",
        "\n",
        "print(input_prediction)\n",
        "\n",
        "input_pred_label=np.argmax(input_prediction)\n",
        "\n",
        "print(input_pred_label)\n",
        "\n",
        "if input_pred_label==1:\n",
        "  print('THE IMAGE IS REAL')\n",
        "else:\n",
        "  print('THE IMAGE IS ARTIFICIAL INTELLIGENCE GENERATED')"
      ],
      "metadata": {
        "colab": {
          "base_uri": "https://localhost:8080/",
          "height": 139
        },
        "id": "Wj3YNkawvX8z",
        "outputId": "192fa9b9-78d9-4c11-dc00-37ceb8a0c884"
      },
      "execution_count": null,
      "outputs": [
        {
          "name": "stdout",
          "output_type": "stream",
          "text": [
            "Path of the image to be predicted: /content/test/REAL/0000.jpg\n"
          ]
        },
        {
          "output_type": "display_data",
          "data": {
            "text/plain": [
              "<PIL.Image.Image image mode=RGB size=32x32 at 0x7FEBF850A710>"
            ],
            "image/png": "[encoded data removed]"
          },
          "metadata": {}
        },
        {
          "output_type": "stream",
          "name": "stdout",
          "text": [
            "1/1 [==============================] - 0s 20ms/step\n",
            "[[0.37024537 0.5684431 ]]\n",
            "1\n",
            "THE IMAGE IS REAL\n"
          ]
        }
      ]
    },
    {
      "cell_type": "markdown",
      "source": [
        "AFTER TRAINING, A REAL IMAGE FROM TEST FOLDER IS ADDED TO TEST THE IMAGE.\n",
        "\n",
        "AND THE TEST RESULT SHOWS THAT THE IMAGE IS REAL."
      ],
      "metadata": {
        "id": "lcnnena8vwI4"
      }
    },
    {
      "cell_type": "markdown",
      "source": [
        "# ***SO THE PREDICTION IS CORRECT AND THE TRAINING IS A SUCCESS.***"
      ],
      "metadata": {
        "id": "WNvKNwDdv_Go"
      }
    }
  ]
}